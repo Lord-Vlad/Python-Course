{
 "cells": [
  {
   "cell_type": "markdown",
   "metadata": {},
   "source": [
    "# Introduction\n",
    "\n",
    "Welcome to the interactive Python course!<br>\n",
    "In this course you will learn the Python programming language. Hopefully you will have fun. But now let's go!"
   ]
  },
  {
   "cell_type": "markdown",
   "metadata": {},
   "source": [
    "We'll start with a little demonstration of how this course works.<br>\n",
    "We are using jupyter notebooks for the reason they're interactive. You can run the code by clicking on the arrow to the left of the codeblock."
   ]
  },
  {
   "cell_type": "code",
   "execution_count": 3,
   "metadata": {},
   "outputs": [
    {
     "name": "stdout",
     "output_type": "stream",
     "text": [
      "You're awesome!\n"
     ]
    }
   ],
   "source": [
    "print(\"You're awesome!\")"
   ]
  },
  {
   "cell_type": "markdown",
   "metadata": {},
   "source": [
    "Isn't it true? <br>\n",
    "Next, let's look at how Python and programming languages in general are built. <br>\n",
    "Almost every programming language contains keywords, and sometimes they are not too different from real English words. Let's take \"print\" for example. It does exactly what you would expect it to do, right?\n",
    "You will probably have noticed that there was more in the code block above. After \"print\" the sentence was enclosed in brackets with quotation marks. <br>\n",
    "With such instructions we usually talk about functions, in this case, it is given by Python. <br>\n",
    "Functions consist of a keyword and often with parameters specified behind it in parentheses. More about this later. "
   ]
  },
  {
   "cell_type": "markdown",
   "metadata": {},
   "source": [
    "### Data Types\n",
    "Data types are special representation of data. Basically, you will already know them from everyday life. <br>\n",
    "There are numbers, letters, words/phrases and some more, but we will talk about them later."
   ]
  }
 ],
 "metadata": {
  "interpreter": {
   "hash": "97cc609b13305c559618ec78a438abc56230b9381f827f22d070313b9a1f3777"
  },
  "kernelspec": {
   "display_name": "Python 3.10.0 64-bit",
   "language": "python",
   "name": "python3"
  },
  "language_info": {
   "codemirror_mode": {
    "name": "ipython",
    "version": 3
   },
   "file_extension": ".py",
   "mimetype": "text/x-python",
   "name": "python",
   "nbconvert_exporter": "python",
   "pygments_lexer": "ipython3",
   "version": "3.10.0"
  },
  "orig_nbformat": 4
 },
 "nbformat": 4,
 "nbformat_minor": 2
}
